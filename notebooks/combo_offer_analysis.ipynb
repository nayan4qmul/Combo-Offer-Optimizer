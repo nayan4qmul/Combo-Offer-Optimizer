# Combo Offer Optimization Analysis

## 1. Import Required Libraries
import pandas as pd
import numpy as np
from src.optimizer import ComboOfferOptimizer
from src.support_calculator import calculate_support
from src.utils import load_product_hierarchy, load_transactions

# Load the synthetic data (generated from generate_synthetic_data.py)
product_hierarchy = pd.read_csv("synthetic_product_hierarchy.csv")
transactions = pd.read_csv("synthetic_transactions.csv")["Products"].apply(eval).tolist()

# Define prices and inventory (can be updated based on real data)
product_prices = {
    "Laptop": 1000, "Mouse": 20, "Keyboard": 50, "Smartphone": 800, "Earphones": 150,
    "Tablet": 600, "Camera": 1200, "Speaker": 150, "Charger": 30, "Smartwatch": 200
}

inventory_levels = {
    "Laptop": 10, "Mouse": 100, "Keyboard": 50, "Smartphone": 200, "Earphones": 150,
    "Tablet": 80, "Camera": 20, "Speaker": 120, "Charger": 300, "Smartwatch": 60
}

# Define retailer objectives
objectives = {
    "revenue_growth": 1, 
    "inventory_clearance": 1, 
    "category_growth": 0.5, 
    "customer_retention": 0.5
}

# 2. Initialize the Combo Offer Optimizer
optimizer = ComboOfferOptimizer(transactions, product_hierarchy, product_prices, inventory_levels, objectives)

# 3. Run the optimization
optimized_combos = optimizer.optimize_all_levels()

# 4. Analyze the results for Product Level
optimized_combos["Product"].head()

# 5. Visualize the Best Offers
import matplotlib.pyplot as plt

# Example: Visualize the top combos for Product level
top_combos = optimized_combos["Product"].head(10)
plt.figure(figsize=(10, 6))
plt.barh(top_combos[f"Product_X"] + " + " + top_combos[f"Product_Y"], top_combos["Score"])
plt.xlabel("Combo Score")
plt.title("Top Optimized Combo Offers (Product Level)")
plt.show()