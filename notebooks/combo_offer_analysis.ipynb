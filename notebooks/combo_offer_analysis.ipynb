{
 "cells": [
  {
   "cell_type": "markdown",
   "metadata": {},
   "source": [
    "# Combo Offer Optimization Analysis"
   ]
  },
  {
   "cell_type": "markdown",
   "metadata": {},
   "source": [
    "## 1. Import Required Libraries"
   ]
  },
  {
   "cell_type": "code",
   "execution_count": null,
   "metadata": {},
   "outputs": [],
   "source": [
    "import sys\n",
    "sys.path.append('/workspaces/Combo-Offer-Optimizer/') # '/path/to/your/project'"
   ]
  },
  {
   "cell_type": "code",
   "execution_count": null,
   "metadata": {},
   "outputs": [],
   "source": [
    "import pandas as pd\n",
    "import numpy as np\n",
    "from src.optimizer import ComboOfferOptimizer\n",
    "from src.support_calculator import calculate_support\n",
    "from src.utils import load_product_hierarchy, load_transactions"
   ]
  },
  {
   "cell_type": "code",
   "execution_count": 7,
   "metadata": {},
   "outputs": [],
   "source": [
    "# Load the synthetic data (generated from generate_synthetic_data.py)\n",
    "product_hierarchy = pd.read_csv(\"../synthetic_product_hierarchy.csv\")\n",
    "transactions = pd.read_csv(\"../synthetic_transactions.csv\")[\"Products\"].apply(eval).tolist()\n",
    "\n",
    "# Define prices and inventory (can be updated based on real data)\n",
    "product_prices = {\n",
    "    \"Laptop\": 1000, \"Mouse\": 20, \"Keyboard\": 50, \"Smartphone\": 800, \"Earphones\": 150,\n",
    "    \"Tablet\": 600, \"Camera\": 1200, \"Speaker\": 150, \"Charger\": 30, \"Smartwatch\": 200\n",
    "}\n",
    "\n",
    "inventory_levels = {\n",
    "    \"Laptop\": 10, \"Mouse\": 100, \"Keyboard\": 50, \"Smartphone\": 200, \"Earphones\": 150,\n",
    "    \"Tablet\": 80, \"Camera\": 20, \"Speaker\": 120, \"Charger\": 300, \"Smartwatch\": 60\n",
    "}\n",
    "\n",
    "# Define retailer objectives\n",
    "objectives = {\n",
    "    \"revenue_growth\": 1, \n",
    "    \"inventory_clearance\": 1, \n",
    "    \"category_growth\": 0.5, \n",
    "    \"customer_retention\": 0.5\n",
    "}"
   ]
  },
  {
   "cell_type": "markdown",
   "metadata": {},
   "source": [
    "# 2. Initialize the Combo Offer Optimizer"
   ]
  },
  {
   "cell_type": "code",
   "execution_count": 8,
   "metadata": {},
   "outputs": [],
   "source": [
    "optimizer = ComboOfferOptimizer(transactions, product_hierarchy, product_prices, inventory_levels, objectives)"
   ]
  },
  {
   "cell_type": "markdown",
   "metadata": {},
   "source": [
    "# 3. Run the optimization"
   ]
  },
  {
   "cell_type": "code",
   "execution_count": 9,
   "metadata": {},
   "outputs": [],
   "source": [
    "optimized_combos = optimizer.optimize_all_levels()"
   ]
  },
  {
   "cell_type": "markdown",
   "metadata": {},
   "source": [
    "# 4. Analyze the results for Product Level"
   ]
  },
  {
   "cell_type": "code",
   "execution_count": 10,
   "metadata": {},
   "outputs": [
    {
     "data": {
      "text/html": [
       "<div>\n",
       "<style scoped>\n",
       "    .dataframe tbody tr th:only-of-type {\n",
       "        vertical-align: middle;\n",
       "    }\n",
       "\n",
       "    .dataframe tbody tr th {\n",
       "        vertical-align: top;\n",
       "    }\n",
       "\n",
       "    .dataframe thead th {\n",
       "        text-align: right;\n",
       "    }\n",
       "</style>\n",
       "<table border=\"1\" class=\"dataframe\">\n",
       "  <thead>\n",
       "    <tr style=\"text-align: right;\">\n",
       "      <th></th>\n",
       "      <th>Product_X</th>\n",
       "      <th>Product_Y</th>\n",
       "      <th>Support_X</th>\n",
       "      <th>Support_Y</th>\n",
       "      <th>Support_XY</th>\n",
       "      <th>Lift</th>\n",
       "      <th>Price_X</th>\n",
       "      <th>Price_Y</th>\n",
       "      <th>Inventory_X</th>\n",
       "      <th>Inventory_Y</th>\n",
       "      <th>Basket_Value</th>\n",
       "      <th>Overstock_Factor</th>\n",
       "      <th>Customer_Preference_Score</th>\n",
       "      <th>Score</th>\n",
       "    </tr>\n",
       "  </thead>\n",
       "  <tbody>\n",
       "    <tr>\n",
       "      <th>32</th>\n",
       "      <td>Camera</td>\n",
       "      <td>Laptop</td>\n",
       "      <td>0.322</td>\n",
       "      <td>0.296</td>\n",
       "      <td>0.089</td>\n",
       "      <td>0.933775</td>\n",
       "      <td>1200</td>\n",
       "      <td>1000</td>\n",
       "      <td>20</td>\n",
       "      <td>10</td>\n",
       "      <td>2200</td>\n",
       "      <td>0.476190</td>\n",
       "      <td>0.425686</td>\n",
       "      <td>2200.689034</td>\n",
       "    </tr>\n",
       "    <tr>\n",
       "      <th>39</th>\n",
       "      <td>Camera</td>\n",
       "      <td>Smartphone</td>\n",
       "      <td>0.322</td>\n",
       "      <td>0.295</td>\n",
       "      <td>0.088</td>\n",
       "      <td>0.926413</td>\n",
       "      <td>1200</td>\n",
       "      <td>800</td>\n",
       "      <td>20</td>\n",
       "      <td>200</td>\n",
       "      <td>2000</td>\n",
       "      <td>9.523810</td>\n",
       "      <td>0.898292</td>\n",
       "      <td>2009.972955</td>\n",
       "    </tr>\n",
       "    <tr>\n",
       "      <th>20</th>\n",
       "      <td>Laptop</td>\n",
       "      <td>Smartphone</td>\n",
       "      <td>0.296</td>\n",
       "      <td>0.295</td>\n",
       "      <td>0.098</td>\n",
       "      <td>1.122309</td>\n",
       "      <td>1000</td>\n",
       "      <td>800</td>\n",
       "      <td>10</td>\n",
       "      <td>200</td>\n",
       "      <td>1800</td>\n",
       "      <td>18.181818</td>\n",
       "      <td>0.409601</td>\n",
       "      <td>1818.386619</td>\n",
       "    </tr>\n",
       "    <tr>\n",
       "      <th>10</th>\n",
       "      <td>Camera</td>\n",
       "      <td>Tablet</td>\n",
       "      <td>0.322</td>\n",
       "      <td>0.278</td>\n",
       "      <td>0.087</td>\n",
       "      <td>0.971893</td>\n",
       "      <td>1200</td>\n",
       "      <td>600</td>\n",
       "      <td>20</td>\n",
       "      <td>80</td>\n",
       "      <td>1800</td>\n",
       "      <td>3.809524</td>\n",
       "      <td>0.677086</td>\n",
       "      <td>1804.148067</td>\n",
       "    </tr>\n",
       "    <tr>\n",
       "      <th>24</th>\n",
       "      <td>Laptop</td>\n",
       "      <td>Tablet</td>\n",
       "      <td>0.296</td>\n",
       "      <td>0.278</td>\n",
       "      <td>0.071</td>\n",
       "      <td>0.862823</td>\n",
       "      <td>1000</td>\n",
       "      <td>600</td>\n",
       "      <td>10</td>\n",
       "      <td>80</td>\n",
       "      <td>1600</td>\n",
       "      <td>7.272727</td>\n",
       "      <td>0.399055</td>\n",
       "      <td>1607.472255</td>\n",
       "    </tr>\n",
       "  </tbody>\n",
       "</table>\n",
       "</div>"
      ],
      "text/plain": [
       "   Product_X   Product_Y  Support_X  Support_Y  Support_XY      Lift  Price_X  \\\n",
       "32    Camera      Laptop      0.322      0.296       0.089  0.933775     1200   \n",
       "39    Camera  Smartphone      0.322      0.295       0.088  0.926413     1200   \n",
       "20    Laptop  Smartphone      0.296      0.295       0.098  1.122309     1000   \n",
       "10    Camera      Tablet      0.322      0.278       0.087  0.971893     1200   \n",
       "24    Laptop      Tablet      0.296      0.278       0.071  0.862823     1000   \n",
       "\n",
       "    Price_Y  Inventory_X  Inventory_Y  Basket_Value  Overstock_Factor  \\\n",
       "32     1000           20           10          2200          0.476190   \n",
       "39      800           20          200          2000          9.523810   \n",
       "20      800           10          200          1800         18.181818   \n",
       "10      600           20           80          1800          3.809524   \n",
       "24      600           10           80          1600          7.272727   \n",
       "\n",
       "    Customer_Preference_Score        Score  \n",
       "32                   0.425686  2200.689034  \n",
       "39                   0.898292  2009.972955  \n",
       "20                   0.409601  1818.386619  \n",
       "10                   0.677086  1804.148067  \n",
       "24                   0.399055  1607.472255  "
      ]
     },
     "execution_count": 10,
     "metadata": {},
     "output_type": "execute_result"
    }
   ],
   "source": [
    "optimized_combos[\"Product\"].head()"
   ]
  },
  {
   "cell_type": "markdown",
   "metadata": {},
   "source": [
    "# 5. Visualize the Best Offers"
   ]
  },
  {
   "cell_type": "code",
   "execution_count": 11,
   "metadata": {},
   "outputs": [
    {
     "data": {
      "image/png": "[encoded data removed]",
      "text/plain": [
       "<Figure size 1000x600 with 1 Axes>"
      ]
     },
     "metadata": {},
     "output_type": "display_data"
    }
   ],
   "source": [
    "import matplotlib.pyplot as plt\n",
    "\n",
    "# Example: Visualize the top combos for Product level\n",
    "top_combos = optimized_combos[\"Product\"].head(10)\n",
    "plt.figure(figsize=(10, 6))\n",
    "plt.barh(top_combos[f\"Product_X\"] + \" + \" + top_combos[f\"Product_Y\"], top_combos[\"Score\"])\n",
    "plt.xlabel(\"Combo Score\")\n",
    "plt.title(\"Top Optimized Combo Offers (Product Level)\")\n",
    "plt.show()"
   ]
  }
 ],
 "metadata": {
  "kernelspec": {
   "display_name": "Python 3",
   "language": "python",
   "name": "python3"
  },
  "language_info": {
   "codemirror_mode": {
    "name": "ipython",
    "version": 3
   },
   "file_extension": ".py",
   "mimetype": "text/x-python",
   "name": "python",
   "nbconvert_exporter": "python",
   "pygments_lexer": "ipython3",
   "version": "3.12.1"
  }
 },
 "nbformat": 4,
 "nbformat_minor": 2
}
